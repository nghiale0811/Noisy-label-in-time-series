{
 "cells": [
  {
   "cell_type": "code",
   "execution_count": 6,
   "id": "dietary-trinity",
   "metadata": {},
   "outputs": [],
   "source": [
    "import torch\n",
    "import numpy as np\n",
    "import matplotlib.pyplot as plt\n",
    "\n",
    "from hmmlearn import hmm\n",
    "from torch.distributions import uniform\n",
    "\n",
    "import sys\n",
    "sys.path.append(\"../\")\n",
    "\n"
   ]
  },
  {
   "cell_type": "code",
   "execution_count": 493,
   "id": "dedicated-deviation",
   "metadata": {},
   "outputs": [],
   "source": [
    "#Generate Datasets using HMM\n",
    "\n",
    "def random_transmat(n_states):\n",
    "    matrix = np.random.rand(n_states, n_states)\n",
    "    return matrix/matrix.sum(axis=1)[:,None]\n",
    "\n",
    "def random_startprob(n_states):\n",
    "    startprob = np.random.rand(n_states)\n",
    "    return startprob/startprob.sum()\n",
    "\n",
    "def random_means(n_features):\n",
    "    return np.random.randint(5, size=(n_features,n_features))\n",
    "\n",
    "def generate_hmm(n_states, n_features , n_samples, length):\n",
    "    #GENERATING A MODEL\n",
    "    model = hmm.GaussianHMM(n_components=n_states, covariance_type=\"full\")\n",
    "    model.startprob_ = random_startprob(n_states)\n",
    "    model.transmat_ = random_transmat(n_states)\n",
    "\n",
    "    model.means_ = random_means(n_features)\n",
    "    model.covars_ = np.tile(np.identity(n_features), (n_features, 1, 1))\n",
    "\n",
    "\n",
    "    #SAMPLING FROM MODEL and STORING IN TENSOR\n",
    "\n",
    "    #Number of Samples in Dataset\n",
    "    dataset=[]\n",
    "    states = []\n",
    "\n",
    "    for i in range(n_samples):\n",
    "        X, Z = model.sample(length)\n",
    "        dataset.append(np.array(X))\n",
    "        states.append(Z)\n",
    "\n",
    "    dataset = np.stack(dataset)\n",
    "    \n",
    "    return dataset, np.array(states)\n",
    "\n",
    "def generate_time_dependent_flip(n_samples, length, startprob, transmat):\n",
    "    #GENERATING A MODEL\n",
    "\n",
    "\n",
    "    model = hmm.GaussianHMM(n_components=n_states, covariance_type=\"full\")\n",
    "    model.startprob_ = startprob\n",
    "    model.transmat_ = transmat\n",
    "\n",
    "    #this doesn't actually matter for us\n",
    "    model.means_ = np.array([[0.0, 0.0], \n",
    "                             [5.0, 10.0]])\n",
    "    model.covars_ = np.tile(np.identity(2), (3, 1, 1))\n",
    "\n",
    "\n",
    "    #SAMPLING FROM MODEL and STORING IN TENSOR\n",
    "\n",
    "    #Number of Samples in Dataset\n",
    "    dataset=[]\n",
    "\n",
    "    for i in range(n_samples):\n",
    "        X, Z = model.sample(length)\n",
    "        dataset.append(np.array(Z))\n",
    "\n",
    "    dataset = np.stack(dataset)\n",
    "    \n",
    "    return dataset\n"
   ]
  },
  {
   "cell_type": "code",
   "execution_count": 481,
   "id": "moderate-programmer",
   "metadata": {},
   "outputs": [],
   "source": [
    "#Injecting Noise into Labels\n",
    "\n",
    "#Given a flip_mask, flip an input\n",
    "def flip(array, flip_mask):\n",
    "    flipped_array = np.logical_xor(array, flip_mask, out=array)\n",
    "    return flipped_array\n",
    "\n",
    "#Class Independent / Time Independent\n",
    "def flip_labels_basic(array, flip_probability):\n",
    "    flip_mask = np.random.binomial(1, 0.5, len(array))\n",
    "    return flip(array, flip_mask)\n",
    "\n",
    "#Class Dependent / Time Independent\n",
    "def flip_labels_class(array, flip_probability_0, flip_probability_1):\n",
    "    flip_mask = []\n",
    "    for elem in array:\n",
    "        if elem == 0:\n",
    "            to_flip = np.random.binomial(1, flip_probability_0, 1)[0]\n",
    "            flip_mask.append(to_flip)\n",
    "        else:\n",
    "            to_flip = np.random.binomial(1, flip_probability_1, 1)[0]\n",
    "            flip_mask.append(to_flip)\n",
    "            \n",
    "    return flip(array, flip_mask)\n",
    "\n",
    "#Class Independent / Time Dependent\n",
    "def flip_labels_time(array, startprob, transmat):\n",
    "    flip_mask = generate_time_dependent_flip(1, len(array), startprob, transmat)[0]\n",
    "\n",
    "    return flip(array, flip_mask)\n",
    "\n",
    "\n",
    "#Class Dependent / Time Dependent\n",
    "#This can be achieved by careful design of the transition matrix (transmat)"
   ]
  },
  {
   "cell_type": "code",
   "execution_count": 482,
   "id": "quarterly-potential",
   "metadata": {},
   "outputs": [],
   "source": [
    "dataset,Z = generate_hmm(2,3,10, 100)"
   ]
  },
  {
   "cell_type": "code",
   "execution_count": 483,
   "id": "fuzzy-newspaper",
   "metadata": {},
   "outputs": [
    {
     "data": {
      "text/plain": [
       "(10, 100)"
      ]
     },
     "execution_count": 483,
     "metadata": {},
     "output_type": "execute_result"
    }
   ],
   "source": [
    "Z.shape"
   ]
  },
  {
   "cell_type": "code",
   "execution_count": 495,
   "id": "brave-macedonia",
   "metadata": {},
   "outputs": [],
   "source": [
    "startprob = random_startprob(2)\n",
    "transmat = np.array([[0.95, 0.05],\n",
    "                    [0.95, 0.05]])\n"
   ]
  },
  {
   "cell_type": "code",
   "execution_count": 496,
   "id": "enhanced-waste",
   "metadata": {},
   "outputs": [],
   "source": [
    "def generate_dataset(n_states, n_features,n_samples, length, train_ratio, method, \n",
    "                     flip_probability= None, flip_probability_0=None, flip_probability_1=None,\n",
    "                    startprob=None, transmat=None):\n",
    "    \n",
    "    #Generate Data\n",
    "    dataset, states_true = generate_hmm(n_states, n_features , n_samples, length)\n",
    "    \n",
    "    x_train = dataset[:int(train_ratio*n_samples)]\n",
    "    x_test = dataset[int(train_ratio*n_samples):]\n",
    "    \n",
    "   \n",
    "    #Flip The Labels according to method\n",
    "    \n",
    "    states_flipped = []\n",
    "    \n",
    "    if method == \"basic\":\n",
    "        for item in states_true:\n",
    "            states_flipped.append(flip_labels_basic(item, flip_probability))\n",
    "        \n",
    "    elif method == \"class\":\n",
    "        for item in states_true:\n",
    "            states_flipped.append(flip_labels_class(item, flip_probability_0, flip_probability_1))\n",
    "        \n",
    "    elif method == \"time\":\n",
    "        for item in states_true:\n",
    "            states_flipped.append(flip_labels_time(item, startprob, transmat))\n",
    "        \n",
    "    y_train_true = states_true[:int(train_ratio*n_samples)]\n",
    "    y_test_true = states_true[int(train_ratio*n_samples):]\n",
    "    \n",
    "    y_train_flipped = np.array(states_flipped[:int(train_ratio*n_samples)])\n",
    "    y_test_flipped = np.array(states_flipped[int(train_ratio*n_samples):])\n",
    "    \n",
    "    \n",
    "    return x_train, y_train_true, y_train_flipped, x_test, y_test_true, y_test_flipped"
   ]
  },
  {
   "cell_type": "code",
   "execution_count": 486,
   "id": "several-radio",
   "metadata": {},
   "outputs": [],
   "source": [
    "n_states = 2\n",
    "n_features = 3\n",
    "n_samples = 100\n",
    "length = 1000\n",
    "train_ratio = 0.7\n",
    "method = \"basic\"\n",
    "flip_probability = 0.1\n",
    "\n",
    "x_train, y_train_true, y_train_flipped, x_test, y_test_true, y_test_flipped= generate_dataset(n_states, n_features,n_samples, length, train_ratio, method, \n",
    "                     flip_probability, flip_probability_0=None, flip_probability_1=None,\n",
    "                    startprob=None, transmat=None)"
   ]
  },
  {
   "cell_type": "code",
   "execution_count": 487,
   "id": "covered-mother",
   "metadata": {},
   "outputs": [
    {
     "data": {
      "text/plain": [
       "(70, 1000, 3)"
      ]
     },
     "execution_count": 487,
     "metadata": {},
     "output_type": "execute_result"
    }
   ],
   "source": [
    "x_train.shape"
   ]
  },
  {
   "cell_type": "code",
   "execution_count": 488,
   "id": "worldwide-socket",
   "metadata": {},
   "outputs": [],
   "source": [
    "n_states = 2\n",
    "n_features = 3\n",
    "n_samples = 100\n",
    "length = 1000\n",
    "train_ratio = 0.7\n",
    "method = \"class\"\n",
    "flip_probability_0 = 0.1\n",
    "flip_probability_1 = 0.2\n",
    "\n",
    "x_train, y_train_true, y_train_flipped, x_test, y_test_true, y_test_flipped = generate_dataset(n_states, n_features,n_samples, length, train_ratio, method, \n",
    "                     flip_probability= None, flip_probability_0=flip_probability_0, flip_probability_1 = flip_probability_1,\n",
    "                    startprob=None, transmat=None)"
   ]
  },
  {
   "cell_type": "code",
   "execution_count": 492,
   "id": "egyptian-batman",
   "metadata": {},
   "outputs": [
    {
     "data": {
      "text/plain": [
       "(70, 1000, 3)"
      ]
     },
     "execution_count": 492,
     "metadata": {},
     "output_type": "execute_result"
    }
   ],
   "source": [
    "x_train.shape"
   ]
  },
  {
   "cell_type": "code",
   "execution_count": 498,
   "id": "mysterious-measure",
   "metadata": {},
   "outputs": [],
   "source": [
    "n_states = 2\n",
    "n_features = 3\n",
    "n_samples = 100\n",
    "length = 1000\n",
    "train_ratio = 0.7\n",
    "method = \"time\"\n",
    "\n",
    "startprob = random_startprob(2)\n",
    "transmat = np.array([[0.95, 0.05],\n",
    "                    [0.95, 0.05]])\n",
    "\n",
    "x_train, y_train_true, y_train_flipped, x_test, y_test_true, y_test_flipped = generate_dataset(n_states, n_features,n_samples, length, train_ratio, method, \n",
    "                     flip_probability=None, flip_probability_0=None, flip_probability_1=None,\n",
    "                    startprob=startprob, transmat=transmat)\n",
    "\n",
    "\n"
   ]
  },
  {
   "cell_type": "code",
   "execution_count": 499,
   "id": "aerial-conversation",
   "metadata": {},
   "outputs": [
    {
     "data": {
      "text/plain": [
       "(70, 1000)"
      ]
     },
     "execution_count": 499,
     "metadata": {},
     "output_type": "execute_result"
    }
   ],
   "source": [
    "y_train_flipped.shape"
   ]
  },
  {
   "cell_type": "code",
   "execution_count": null,
   "id": "official-detail",
   "metadata": {},
   "outputs": [],
   "source": []
  }
 ],
 "metadata": {
  "kernelspec": {
   "display_name": "Stress Recov(3.6)",
   "language": "python",
   "name": "myenv2"
  },
  "language_info": {
   "codemirror_mode": {
    "name": "ipython",
    "version": 3
   },
   "file_extension": ".py",
   "mimetype": "text/x-python",
   "name": "python",
   "nbconvert_exporter": "python",
   "pygments_lexer": "ipython3",
   "version": "3.6.12"
  }
 },
 "nbformat": 4,
 "nbformat_minor": 5
}
