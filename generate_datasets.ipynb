{
 "cells": [
  {
   "cell_type": "code",
   "execution_count": 1,
   "id": "dietary-trinity",
   "metadata": {},
   "outputs": [],
   "source": [
    "import torch\n",
    "import numpy as np\n",
    "import matplotlib.pyplot as plt\n",
    "\n",
    "from hmmlearn import hmm\n",
    "from torch.distributions import uniform\n",
    "from numpy.lib.stride_tricks import numpy.lib.sliding_window_view\n",
    "\n",
    "import sys\n",
    "sys.path.append(\"../\")\n",
    "\n"
   ]
  },
  {
   "cell_type": "code",
   "execution_count": 58,
   "id": "dedicated-deviation",
   "metadata": {},
   "outputs": [],
   "source": [
    "#Generate Datasets using HMM\n",
    "\n",
    "def random_transmat(n_states):\n",
    "    matrix = np.random.rand(n_states, n_states)\n",
    "    return matrix/matrix.sum(axis=1)[:,None]\n",
    "\n",
    "def random_startprob(n_states):\n",
    "    startprob = np.random.rand(n_states)\n",
    "    return startprob/startprob.sum()\n",
    "\n",
    "def random_means(n_features):\n",
    "    return np.random.randint(5, size=(n_features,n_features))\n",
    "\n",
    "def generate_hmm(n_states, n_features , length):\n",
    "    #GENERATING A MODEL\n",
    "    model = hmm.GaussianHMM(n_components=n_states, covariance_type=\"full\")\n",
    "    model.startprob_ = random_startprob(n_states)\n",
    "    model.transmat_ = random_transmat(n_states)\n",
    "\n",
    "    model.means_ = random_means(n_features)\n",
    "    model.covars_ = np.tile(np.identity(n_features), (n_features, 1, 1))\n",
    "\n",
    "\n",
    "    #SAMPLING FROM MODEL and STORING IN TENSOR\n",
    "\n",
    "    #Number of Samples in Dataset\n",
    "    dataset=[]\n",
    "    states = []\n",
    "\n",
    "    \n",
    "    X, Z = model.sample(length)\n",
    "    dataset.append(np.array(X))\n",
    "    states.append(Z)\n",
    "\n",
    "    dataset = np.stack(dataset)\n",
    "    \n",
    "    return np.array(X), np.array(Z)\n",
    "\n",
    "def sliding_windows(dataset, Z, window_length = 10):\n",
    "    lis = []\n",
    "    targets=[]\n",
    "\n",
    "    window_length = 10\n",
    "    if len(dataset) >= window_length+1:\n",
    "        for i in range(0, len(dataset)-window_length, 1):\n",
    "\n",
    "            x_window = dataset[i:i+window_length, :]\n",
    "            z_window = Z[i:i+window_length]\n",
    "\n",
    "            lis.append(x_window)\n",
    "            targets.append(z_window[-1])\n",
    "    return np.array(lis), np.array(targets)\n",
    "\n",
    "def generate_time_dependent_flip(length, startprob, transmat):\n",
    "    #GENERATING A MODEL\n",
    "\n",
    "\n",
    "    model = hmm.GaussianHMM(n_components=n_states, covariance_type=\"full\")\n",
    "    model.startprob_ = startprob\n",
    "    model.transmat_ = transmat\n",
    "\n",
    "    #this doesn't actually matter for us\n",
    "    model.means_ = np.array([[0.0, 0.0], \n",
    "                             [5.0, 10.0]])\n",
    "    model.covars_ = np.tile(np.identity(2), (3, 1, 1))\n",
    "\n",
    "\n",
    "    #SAMPLING FROM MODEL and STORING IN TENSOR\n",
    "\n",
    "    #Number of Samples in Dataset\n",
    "\n",
    "\n",
    "    X, Z = model.sample(length)\n",
    "\n",
    "    \n",
    "    return Z\n"
   ]
  },
  {
   "cell_type": "code",
   "execution_count": 154,
   "id": "moderate-programmer",
   "metadata": {},
   "outputs": [],
   "source": [
    "#Injecting Noise into Labels\n",
    "\n",
    "#Given a flip_mask, flip an input\n",
    "def flip(array, flip_mask):\n",
    "    flipped_array = np.logical_xor(array, flip_mask, out=array)\n",
    "    return flipped_array\n",
    "\n",
    "#Class Independent / Time Independent\n",
    "def flip_labels_basic(array, flip_probability):\n",
    "    flip_mask = np.random.binomial(1, flip_probability, len(array))\n",
    "    return flip(array, flip_mask)\n",
    "\n",
    "#Class Dependent / Time Independent\n",
    "def flip_labels_class(array, flip_probability_0, flip_probability_1):\n",
    "    flip_mask = []\n",
    "    for elem in array:\n",
    "        if elem == 0:\n",
    "            to_flip = np.random.binomial(1, flip_probability_0, 1)[0]\n",
    "            flip_mask.append(to_flip)\n",
    "        else:\n",
    "            to_flip = np.random.binomial(1, flip_probability_1, 1)[0]\n",
    "            flip_mask.append(to_flip)\n",
    "            \n",
    "    return flip(array, flip_mask)\n",
    "\n",
    "#Class Independent / Time Dependent\n",
    "def flip_labels_time(array, startprob, transmat):\n",
    "    flip_mask = generate_time_dependent_flip(len(array), startprob, transmat)[0]\n",
    "\n",
    "    return flip(array, flip_mask)\n",
    "\n",
    "\n",
    "#Class Dependent / Time Dependent\n",
    "#This can be achieved by careful design of the transition matrix (transmat)"
   ]
  },
  {
   "cell_type": "code",
   "execution_count": 5,
   "id": "quarterly-potential",
   "metadata": {},
   "outputs": [],
   "source": [
    "dataset,Z = generate_hmm(2,3, 100)"
   ]
  },
  {
   "cell_type": "code",
   "execution_count": 32,
   "id": "fuzzy-newspaper",
   "metadata": {},
   "outputs": [
    {
     "data": {
      "text/plain": [
       "array([1, 1, 0, 1, 1, 1, 1, 1, 1, 1, 0, 0, 0, 0, 1, 1, 1, 1, 0, 1, 1, 1,\n",
       "       1, 1, 1, 1, 1, 1, 1, 1, 1, 1, 1, 1, 1, 0, 0, 0, 0, 0, 0, 0, 1, 1,\n",
       "       1, 0, 0, 0, 1, 1, 1, 1, 0, 0, 1, 1, 1, 1, 1, 1, 1, 1, 1, 0, 0, 1,\n",
       "       1, 1, 1, 1, 1, 1, 0, 1, 1, 1, 1, 1, 1, 1, 1, 1, 1, 1, 1, 1, 0, 0,\n",
       "       0, 0, 1, 1, 1, 1, 1, 0, 0, 1, 1, 1])"
      ]
     },
     "execution_count": 32,
     "metadata": {},
     "output_type": "execute_result"
    }
   ],
   "source": [
    "Z"
   ]
  },
  {
   "cell_type": "code",
   "execution_count": 51,
   "id": "phantom-nylon",
   "metadata": {},
   "outputs": [],
   "source": []
  },
  {
   "cell_type": "code",
   "execution_count": 54,
   "id": "amber-remove",
   "metadata": {},
   "outputs": [
    {
     "data": {
      "text/plain": [
       "90"
      ]
     },
     "execution_count": 54,
     "metadata": {},
     "output_type": "execute_result"
    }
   ],
   "source": []
  },
  {
   "cell_type": "code",
   "execution_count": 495,
   "id": "brave-macedonia",
   "metadata": {},
   "outputs": [],
   "source": [
    "startprob = random_startprob(2)\n",
    "transmat = np.array([[0.95, 0.05],\n",
    "                    [0.95, 0.05]])\n"
   ]
  },
  {
   "cell_type": "code",
   "execution_count": 159,
   "id": "enhanced-waste",
   "metadata": {},
   "outputs": [],
   "source": [
    "def generate_dataset(n_states, n_features, length,window_length, train_ratio, method, \n",
    "                     flip_probability= None, flip_probability_0=None, flip_probability_1=None,\n",
    "                    startprob=None, transmat=None):\n",
    "    \n",
    "    #Generate Data\n",
    "    dataset, states_true = generate_hmm(n_states, n_features , length)\n",
    "    \n",
    "    if method == \"basic\":\n",
    "        states_flipped = (flip_labels_basic(states_true, flip_probability))\n",
    "        \n",
    "    elif method == \"class\":\n",
    "        states_flipped = (flip_labels_class(states_true, flip_probability_0, flip_probability_1))\n",
    "        \n",
    "    elif method == \"time\":\n",
    "        states_flipped = (flip_labels_time(states_true, startprob, transmat))\n",
    "    \n",
    "    #RESHAPE INTO WINDOWS\n",
    "    dataset_windows, states_true = sliding_windows(dataset, states_true, window_length= window_length)\n",
    "    \n",
    "    #RESHAPE INTO WINDOWS\n",
    "    _, states_flipped = sliding_windows(dataset, states_flipped, window_length= window_length)\n",
    "    \n",
    "    x_train = dataset_windows[:int(train_ratio*len(dataset_windows)),:,:]\n",
    "    x_test = dataset_windows[int(train_ratio*len(dataset_windows)):,:,:]\n",
    "    \n",
    "   \n",
    "    #Flip The Labels according to method\n",
    "    \n",
    "    \n",
    "    y_train_true = states_true[:int(train_ratio*len(dataset_windows))]\n",
    "    y_test_true = states_true[int(train_ratio*len(dataset_windows)):]\n",
    "    \n",
    "    y_train_flipped = np.array(states_flipped[:int(train_ratio*len(dataset_windows))])\n",
    "    y_test_flipped = np.array(states_flipped[int(train_ratio*len(dataset_windows)):])\n",
    "    \n",
    "    \n",
    "    return x_train, y_train_true, y_train_flipped, x_test, y_test_true, y_test_flipped"
   ]
  },
  {
   "cell_type": "code",
   "execution_count": 160,
   "id": "several-radio",
   "metadata": {},
   "outputs": [],
   "source": [
    "n_states = 2\n",
    "n_features = 3\n",
    "length = 10000\n",
    "window_length = 10\n",
    "train_ratio = 0.7\n",
    "method = \"basic\"\n",
    "flip_probability = 0.1\n",
    "\n",
    "x_train, y_train_true, y_train_flipped, x_test, y_test_true, y_test_flipped= generate_dataset(n_states, n_features, length,window_length, train_ratio, method, \n",
    "                     flip_probability, flip_probability_0=None, flip_probability_1=None,\n",
    "                    startprob=None, transmat=None)"
   ]
  },
  {
   "cell_type": "code",
   "execution_count": 161,
   "id": "covered-mother",
   "metadata": {},
   "outputs": [
    {
     "data": {
      "text/plain": [
       "(6993,)"
      ]
     },
     "execution_count": 161,
     "metadata": {},
     "output_type": "execute_result"
    }
   ],
   "source": [
    "y_train_flipped.shape"
   ]
  },
  {
   "cell_type": "code",
   "execution_count": 162,
   "id": "worldwide-socket",
   "metadata": {},
   "outputs": [],
   "source": [
    "n_states = 2\n",
    "n_features = 3\n",
    "length = 1000\n",
    "window_length = 10\n",
    "train_ratio = 0.7\n",
    "method = \"class\"\n",
    "flip_probability_0 = 0.1\n",
    "flip_probability_1 = 0.2\n",
    "\n",
    "x_train, y_train_true, y_train_flipped, x_test, y_test_true, y_test_flipped = generate_dataset(n_states, n_features, length,window_length, train_ratio, method, \n",
    "                     flip_probability= None, flip_probability_0=flip_probability_0, flip_probability_1 = flip_probability_1,\n",
    "                    startprob=None, transmat=None)"
   ]
  },
  {
   "cell_type": "code",
   "execution_count": 163,
   "id": "egyptian-batman",
   "metadata": {},
   "outputs": [
    {
     "data": {
      "text/plain": [
       "(693, 10, 3)"
      ]
     },
     "execution_count": 163,
     "metadata": {},
     "output_type": "execute_result"
    }
   ],
   "source": [
    "x_train.shape"
   ]
  },
  {
   "cell_type": "code",
   "execution_count": 164,
   "id": "mysterious-measure",
   "metadata": {},
   "outputs": [],
   "source": [
    "n_states = 2\n",
    "n_features = 3\n",
    "length = 1000\n",
    "window_length = 10\n",
    "train_ratio = 0.7\n",
    "method = \"time\"\n",
    "\n",
    "startprob = random_startprob(2)\n",
    "transmat = np.array([[0.95, 0.05],\n",
    "                    [0.95, 0.05]])\n",
    "\n",
    "x_train, y_train_true, y_train_flipped, x_test, y_test_true, y_test_flipped = generate_dataset(n_states, n_features,length, window_length, train_ratio, method, \n",
    "                     flip_probability=None, flip_probability_0=None, flip_probability_1=None,\n",
    "                    startprob=startprob, transmat=transmat)\n",
    "\n",
    "\n"
   ]
  },
  {
   "cell_type": "code",
   "execution_count": 165,
   "id": "aerial-conversation",
   "metadata": {},
   "outputs": [
    {
     "data": {
      "text/plain": [
       "(693,)"
      ]
     },
     "execution_count": 165,
     "metadata": {},
     "output_type": "execute_result"
    }
   ],
   "source": [
    "y_train_flipped.shape"
   ]
  },
  {
   "cell_type": "code",
   "execution_count": 187,
   "id": "official-detail",
   "metadata": {},
   "outputs": [],
   "source": [
    "#ADD NOISE TO HAR\n",
    "\n",
    "noise_pair_45= np.array([[.55,0.45,0.0,0.0,0.0,0.0],\n",
    "                        [0.0,.55,0.45,0.0,0.0,0.0],\n",
    "                        [0.0,0.0,.55,0.45,0.0,0.0],\n",
    "                        [0.0,0.0,0.0,.55,0.45,0.0],\n",
    "                        [0.0,0.0,0.0,0.0,.55,0.0],\n",
    "                        [0.45,0.0,0.0,0.0,0.0,.55]])\n",
    "noise_sym_50 = np.array([[.50,.10,.10,.10,.10,.10],\n",
    "                        [.10,.50,.10,.10,.10,.10],\n",
    "                        [.10,.10,.50,.10,.10,.10],\n",
    "                        [.10,.10,.10,.50,.10,.10],\n",
    "                        [.10,.10,.10,.10,.50,.0],\n",
    "                        [.10,.10,.10,.10,.10,.50]])\n",
    "\n",
    "noise_sym_25 = np.array([[.25,.15,.15,.15,.15,.15],\n",
    "                        [.15,.25,.15,.15,.15,.15],\n",
    "                        [.15,.15,.25,.15,.15,.15],\n",
    "                        [.15,.15,.15,.25,.15,.15],\n",
    "                        [.15,.15,.15,.15,.25,.15],\n",
    "                        [.15,.15,.15,.15,.15,.25]])\n",
    "\n",
    "def flip_HAR_labels(array, noise_matrix):\n",
    "    flipped = []\n",
    "    for elem in array:\n",
    "        flipped.append(np.random.choice([0,1,2,3,4,5], p=noise_matrix[elem]))\n",
    "    \n",
    "    return np.array(flipped)\n",
    "\n",
    "\n",
    "def flip_HAR_labels_basic(array, flip_probability):\n",
    "    flip_mask = np.random.binomial(1, flip_probability, len(array))\n",
    "    flipped = []\n",
    "    for i in range(len(array)):\n",
    "        if flip_mask[i]==1:\n",
    "            options = [0.0,1.0,2.0,3.0,4.0,5.0]\n",
    "            new_options = [x for x in options if x != array[i]]\n",
    "            flipped.append(np.random.choice(new_options, p=[0.2,0.2,0.2,0.2, 0.2]))\n",
    "        else:\n",
    "            flipped.append(array[i])\n",
    "    \n",
    "    return np.array(flipped)\n",
    "    \n"
   ]
  },
  {
   "cell_type": "code",
   "execution_count": 192,
   "id": "preliminary-carbon",
   "metadata": {},
   "outputs": [
    {
     "data": {
      "text/plain": [
       "array([0., 0., 2., 3., 4., 5.])"
      ]
     },
     "execution_count": 192,
     "metadata": {},
     "output_type": "execute_result"
    }
   ],
   "source": [
    "array = np.array([0.0,1.0,2.0,3.0,4.0,5.0])\n",
    "noise_matrix = noise_sym_25\n",
    "\n",
    "flip_HAR_labels_basic(array, 0.1)"
   ]
  },
  {
   "cell_type": "code",
   "execution_count": 186,
   "id": "plastic-filing",
   "metadata": {},
   "outputs": [
    {
     "data": {
      "text/plain": [
       "[0.0, 1.0, 2.0, 3.0, 4.0, 5.0]"
      ]
     },
     "execution_count": 186,
     "metadata": {},
     "output_type": "execute_result"
    }
   ],
   "source": [
    "flipped"
   ]
  },
  {
   "cell_type": "code",
   "execution_count": 155,
   "id": "separate-assessment",
   "metadata": {},
   "outputs": [],
   "source": [
    "flip_mask = np.random.binomial(1, 0.5, len(array))"
   ]
  },
  {
   "cell_type": "code",
   "execution_count": 156,
   "id": "smoking-messaging",
   "metadata": {},
   "outputs": [
    {
     "data": {
      "text/plain": [
       "array([0, 0, 1, 0, 0, 0])"
      ]
     },
     "execution_count": 156,
     "metadata": {},
     "output_type": "execute_result"
    }
   ],
   "source": [
    "flip_mask"
   ]
  },
  {
   "cell_type": "code",
   "execution_count": null,
   "id": "settled-vision",
   "metadata": {},
   "outputs": [],
   "source": []
  }
 ],
 "metadata": {
  "kernelspec": {
   "display_name": "Stress Recov(3.6)",
   "language": "python",
   "name": "myenv2"
  },
  "language_info": {
   "codemirror_mode": {
    "name": "ipython",
    "version": 3
   },
   "file_extension": ".py",
   "mimetype": "text/x-python",
   "name": "python",
   "nbconvert_exporter": "python",
   "pygments_lexer": "ipython3",
   "version": "3.6.12"
  }
 },
 "nbformat": 4,
 "nbformat_minor": 5
}
